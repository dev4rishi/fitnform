{
 "cells": [
  {
   "cell_type": "code",
   "execution_count": 2,
   "metadata": {},
   "outputs": [],
   "source": [
    "import cv2\n",
    "import mediapipe as mp\n",
    "import numpy as np\n",
    "mp_drawing = mp.solutions.drawing_utils\n",
    "mp_pose = mp.solutions.pose\n",
    "import os\n",
    "from matplotlib import pyplot as plt\n",
    "import pandas as pd "
   ]
  },
  {
   "cell_type": "code",
   "execution_count": 3,
   "metadata": {},
   "outputs": [],
   "source": [
    "def calculate_angle(a,b,c):\n",
    "    a=np.array(a) \n",
    "    b=np.array(b)\n",
    "    c=np.array(c)\n",
    "    radians=np.arctan2(c[1]-b[1],c[0]-b[0])-np.arctan2(a[1]-b[1],a[0]-b[0])\n",
    "    angle=np.abs(radians*180.0/np.pi)\n",
    "    if angle>180.0:\n",
    "        angle=360-angle\n",
    "    return angle \n",
    "def target(path,names):\n",
    "    for i in names.keys():\n",
    "        if i in path:\n",
    "            return names[i]\n",
    "def split_seq(seq,num_pieces):\n",
    "    start=0\n",
    "    for i in range(num_pieces):\n",
    "        stop=start+len(seq[i::num_pieces])\n",
    "        yield seq[start:stop]\n",
    "        start=stop"
   ]
  },
  {
   "cell_type": "code",
   "execution_count": 4,
   "metadata": {},
   "outputs": [],
   "source": [
    "cap=cv2.VideoCapture('C:\\collez_stady\\FitnForm\\push up\\side-model/arch-back/26.mp4')\n",
    "pushing=False\n",
    "chk=[150,150]\n",
    "iter=0\n",
    "with mp_pose.Pose(min_detection_confidence=0.5, min_tracking_confidence=0.5) as pose:\n",
    "    while cap.isOpened():\n",
    "        ret,frame=cap.read()\n",
    "        if ret:\n",
    "            image=cv2.cvtColor(frame,cv2.COLOR_BGR2RGB)\n",
    "            results=pose.process(image)\n",
    "            image=cv2.cvtColor(image,cv2.COLOR_RGB2BGR)\n",
    "            try:\n",
    "                landmarks=results.pose_landmarks.landmark\n",
    "                wrist=[landmarks[mp_pose.PoseLandmark.LEFT_WRIST.value].x,landmarks[mp_pose.PoseLandmark.LEFT_WRIST.value].y] \n",
    "                elbow=[landmarks[mp_pose.PoseLandmark.LEFT_ELBOW.value].x,landmarks[mp_pose.PoseLandmark.LEFT_ELBOW.value].y]\n",
    "                shoulder=[landmarks[mp_pose.PoseLandmark.LEFT_SHOULDER.value].x,landmarks[mp_pose.PoseLandmark.LEFT_SHOULDER.value].y]\n",
    "                hip=[landmarks[mp_pose.PoseLandmark.LEFT_HIP.value].x,landmarks[mp_pose.PoseLandmark.LEFT_HIP.value].y]\n",
    "                knee=[landmarks[mp_pose.PoseLandmark.LEFT_KNEE.value].x,landmarks[mp_pose.PoseLandmark.LEFT_KNEE.value].y]\n",
    "                angle1=calculate_angle(wrist,elbow,shoulder)\n",
    "                angle2=calculate_angle(knee,hip,shoulder)\n",
    "                cv2.putText(image,str(angle1),tuple(np.multiply(elbow,[640,480]).astype(int)),cv2.FONT_HERSHEY_SIMPLEX,0.5,(255,255, 255),2,cv2.LINE_AA)\n",
    "                cv2.putText(image,str(angle2),tuple(np.multiply(hip,[640,480]).astype(int)),cv2.FONT_HERSHEY_SIMPLEX,0.5,(255,255, 255),2,cv2.LINE_AA)\n",
    "                #print(angle1)\n",
    "                if iter<20:\n",
    "                    chk[0]=(chk[0]+angle1)/2\n",
    "                    chk[1]=(chk[1]+angle2)/2\n",
    "                    iter+=1\n",
    "                elif iter==20:\n",
    "                    if (chk[0]>=155 and chk[0]<=180) and (chk[1]>=155 and chk[1]<=180):\n",
    "                        pushing=True\n",
    "                    iter=0\n",
    "                cv2.putText(image,str(angle2),tuple(np.multiply(hip,[640,480]).astype(int)),cv2.FONT_HERSHEY_SIMPLEX,0.5,(255,255, 255),2,cv2.LINE_AA)\n",
    "            except:\n",
    "                pass\n",
    "            mp_drawing.draw_landmarks(image,results.pose_landmarks,mp_pose.POSE_CONNECTIONS,mp_drawing.DrawingSpec(color=(245,117,66),thickness=2,circle_radius=2),mp_drawing.DrawingSpec(color=(245,66,230),thickness=2,circle_radius=2))               \n",
    "            if cv2.waitKey(25) & 0xFF == ord('q'):\n",
    "                break\n",
    "            if pushing:\n",
    "                cv2.putText(image,'Pushing',(50,50),cv2.FONT_HERSHEY_SIMPLEX,0.5,(255,255, 255),2,cv2.LINE_AA)\n",
    "                #arr.append(angle2)\n",
    "            else:\n",
    "                cv2.putText(image,'Not Pushing',(100,100),cv2.FONT_HERSHEY_SIMPLEX,1,(0,0,255),2,cv2.LINE_AA)\n",
    "            cv2.imshow('Feed',image)\n",
    "        else:\n",
    "            break\n",
    "    cap.release()\n",
    "    cv2.destroyAllWindows()"
   ]
  },
  {
   "cell_type": "code",
   "execution_count": 1,
   "metadata": {},
   "outputs": [
    {
     "name": "stdout",
     "output_type": "stream",
     "text": [
      "3\n"
     ]
    }
   ],
   "source": [
    "import pyttsx3\n",
    "pyttsx3.speak(\"Let's Go, Push ups baby\")\n",
    "print(3)"
   ]
  },
  {
   "cell_type": "code",
   "execution_count": null,
   "metadata": {},
   "outputs": [],
   "source": []
  }
 ],
 "metadata": {
  "interpreter": {
   "hash": "a642f19b9268adbb8b15da48230e588fbf18935d76fbf06b8196e44a5ece222b"
  },
  "kernelspec": {
   "display_name": "Python 3.10.0 64-bit",
   "language": "python",
   "name": "python3"
  },
  "language_info": {
   "codemirror_mode": {
    "name": "ipython",
    "version": 3
   },
   "file_extension": ".py",
   "mimetype": "text/x-python",
   "name": "python",
   "nbconvert_exporter": "python",
   "pygments_lexer": "ipython3",
   "version": "3.7.0"
  },
  "orig_nbformat": 4
 },
 "nbformat": 4,
 "nbformat_minor": 2
}
